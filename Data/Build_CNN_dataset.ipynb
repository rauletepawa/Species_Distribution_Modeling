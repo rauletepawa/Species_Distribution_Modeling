{
 "cells": [
  {
   "cell_type": "code",
   "execution_count": null,
   "id": "7fba0216-855e-4b83-b333-15e2a3c54944",
   "metadata": {},
   "outputs": [],
   "source": []
  }
 ],
 "metadata": {
  "kernelspec": {
   "display_name": "chelsa_env",
   "language": "python",
   "name": "chelsa_env"
  },
  "language_info": {
   "codemirror_mode": {
    "name": "ipython",
    "version": 3
   },
   "file_extension": ".py",
   "mimetype": "text/x-python",
   "name": "python",
   "nbconvert_exporter": "python",
   "pygments_lexer": "ipython3",
   "version": "3.12.9"
  }
 },
 "nbformat": 4,
 "nbformat_minor": 5
}
