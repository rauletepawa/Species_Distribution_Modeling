{
 "cells": [
  {
   "cell_type": "code",
   "execution_count": 1,
   "id": "663d1c6d-087e-4c2d-b53b-5d282c478847",
   "metadata": {},
   "outputs": [],
   "source": [
    "import pickle\n",
    "import json\n",
    "import numpy as np\n",
    "import pandas as pd\n",
    "import matplotlib.pyplot as plt\n",
    "import random\n",
    "\n",
    "import netCDF4  # or import h5netcdf\n",
    "import xarray as xr\n",
    "import numpy as np\n",
    "import matplotlib.pyplot as plt\n",
    "import cartopy.crs as ccrs\n",
    "import cartopy.feature as cfeature"
   ]
  },
  {
   "cell_type": "code",
   "execution_count": 2,
   "id": "9b8f1cb7-f82e-4c06-b48c-88b6067411ed",
   "metadata": {},
   "outputs": [],
   "source": [
    "from tqdm import tqdm\n",
    "import sys"
   ]
  },
  {
   "cell_type": "code",
   "execution_count": 3,
   "id": "96f5c401-dad8-499d-a072-090fcc75158c",
   "metadata": {},
   "outputs": [],
   "source": [
    "import geopandas as gpd\n",
    "from shapely.geometry import Point"
   ]
  },
  {
   "cell_type": "code",
   "execution_count": 4,
   "id": "15785e16-845c-4f0d-aa08-df35a87700b2",
   "metadata": {},
   "outputs": [],
   "source": [
    "from sklearn.model_selection import train_test_split\n",
    "from sklearn.preprocessing import LabelEncoder\n"
   ]
  },
  {
   "cell_type": "code",
   "execution_count": 5,
   "id": "d1ae1575-09e7-4a31-bde7-3e30e894f1b1",
   "metadata": {},
   "outputs": [
    {
     "name": "stdout",
     "output_type": "stream",
     "text": [
      "PyTorch version: 2.6.0+cu126\n",
      "torchvision version: 0.21.0+cu126\n"
     ]
    }
   ],
   "source": [
    "# Import PyTorch\n",
    "import torch\n",
    "from torch import nn\n",
    "import torch.optim as optim\n",
    "import  torchvision.transforms as transforms\n",
    "\n",
    "# Import torchvision \n",
    "import torchvision\n",
    "from torchvision import datasets\n",
    "from torchvision.transforms import ToTensor\n",
    "from torch.utils.data import Dataset, DataLoader\n",
    "import torch.nn.functional as F\n",
    "\n",
    "# Note: your PyTorch version shouldn't be lower than 1.10.0 and torchvision version shouldn't be lower than 0.11\n",
    "print(f\"PyTorch version: {torch.__version__}\\ntorchvision version: {torchvision.__version__}\")"
   ]
  },
  {
   "cell_type": "code",
   "execution_count": 6,
   "id": "2847d1ef-c3e1-42d6-9c54-e63ccc500e22",
   "metadata": {},
   "outputs": [],
   "source": [
    "seed = 42  # Choose any number\n",
    "\n",
    "# Set seed for PyTorch\n",
    "torch.manual_seed(seed)\n",
    "torch.cuda.manual_seed(seed)  # If using CUDA\n",
    "torch.cuda.manual_seed_all(seed)  # If using multi-GPU\n",
    "torch.backends.cudnn.deterministic = True\n",
    "torch.backends.cudnn.benchmark = False\n",
    "\n",
    "# Set seed for NumPy and Python's random module\n",
    "np.random.seed(seed)\n",
    "random.seed(seed)"
   ]
  },
  {
   "cell_type": "code",
   "execution_count": 7,
   "id": "8af8f133-8782-47de-8304-ac62795729e7",
   "metadata": {},
   "outputs": [
    {
     "name": "stdout",
     "output_type": "stream",
     "text": [
      "Available CPU cores: 80\n"
     ]
    }
   ],
   "source": [
    "import os\n",
    "num_cpu_cores = os.cpu_count()\n",
    "print(f\"Available CPU cores: {num_cpu_cores}\")"
   ]
  },
  {
   "cell_type": "code",
   "execution_count": 8,
   "id": "c3d70e55-e6cc-43e4-a424-0f098773290a",
   "metadata": {},
   "outputs": [
    {
     "name": "stdout",
     "output_type": "stream",
     "text": [
      "Abies alba: 0\n"
     ]
    }
   ],
   "source": [
    "# Load from JSON file\n",
    "with open(r\"../data/species_universe_filtered_10.json\", \"r\") as file:\n",
    "    species_universe = json.load(file)\n",
    "label_encoder = LabelEncoder()\n",
    "label_encoder.fit(list(species_universe.keys()))\n",
    "# Save the LabelEncoder\n",
    "# with open('label_encoder.pkl', 'wb') as f:\n",
    "#     pickle.dump(label_encoder, f)\n",
    "for species, encoded_label in zip(label_encoder.classes_, range(len(label_encoder.classes_))):\n",
    "    print(f\"{species}: {encoded_label}\")\n",
    "    break"
   ]
  },
  {
   "cell_type": "code",
   "execution_count": 9,
   "id": "52938fae-8264-4db9-a134-e472b31ca906",
   "metadata": {},
   "outputs": [
    {
     "data": {
      "text/html": [
       "<div>\n",
       "<style scoped>\n",
       "    .dataframe tbody tr th:only-of-type {\n",
       "        vertical-align: middle;\n",
       "    }\n",
       "\n",
       "    .dataframe tbody tr th {\n",
       "        vertical-align: top;\n",
       "    }\n",
       "\n",
       "    .dataframe thead th {\n",
       "        text-align: right;\n",
       "    }\n",
       "</style>\n",
       "<table border=\"1\" class=\"dataframe\">\n",
       "  <thead>\n",
       "    <tr style=\"text-align: right;\">\n",
       "      <th></th>\n",
       "      <th>grid_index</th>\n",
       "      <th>year</th>\n",
       "      <th>species</th>\n",
       "      <th>longitude</th>\n",
       "      <th>latitude</th>\n",
       "      <th>climatic_map</th>\n",
       "      <th>species_vector</th>\n",
       "    </tr>\n",
       "  </thead>\n",
       "  <tbody>\n",
       "    <tr>\n",
       "      <th>7</th>\n",
       "      <td>79231</td>\n",
       "      <td>2018</td>\n",
       "      <td>[Tripolium pannonicum, Dactylorhiza majalis, L...</td>\n",
       "      <td>5.172939</td>\n",
       "      <td>59.201189</td>\n",
       "      <td>[[[0.5033312, 0.0, 0.0, 0.0, 0.7999878, 0.0, 0...</td>\n",
       "      <td>[0, 0, 1, 0, 0, 0, 0, 0, 0, 0, 0, 0, 0, 0, 0, ...</td>\n",
       "    </tr>\n",
       "    <tr>\n",
       "      <th>33</th>\n",
       "      <td>80722</td>\n",
       "      <td>2018</td>\n",
       "      <td>[Lonicera periclymenum, Honckenya peploides, T...</td>\n",
       "      <td>5.192753</td>\n",
       "      <td>59.193655</td>\n",
       "      <td>[[[0.49577808, 0.0, 0.0, 0.0, 0.7999878, 0.0, ...</td>\n",
       "      <td>[0, 0, 0, 0, 0, 0, 0, 0, 0, 0, 0, 0, 0, 0, 0, ...</td>\n",
       "    </tr>\n",
       "    <tr>\n",
       "      <th>39</th>\n",
       "      <td>80723</td>\n",
       "      <td>2018</td>\n",
       "      <td>[Ficaria verna, Sanguisorba officinalis, Primu...</td>\n",
       "      <td>5.190191</td>\n",
       "      <td>59.202504</td>\n",
       "      <td>[[[0.47734928, 0.0, 0.0, 0.0, 0.7999878, 0.0, ...</td>\n",
       "      <td>[0, 0, 0, 0, 0, 0, 0, 0, 0, 0, 0, 0, 0, 0, 0, ...</td>\n",
       "    </tr>\n",
       "    <tr>\n",
       "      <th>43</th>\n",
       "      <td>80725</td>\n",
       "      <td>2018</td>\n",
       "      <td>[Aegopodium podagraria, Galium aparine, Lotus ...</td>\n",
       "      <td>5.185063</td>\n",
       "      <td>59.220202</td>\n",
       "      <td>[[[0.47350216, 0.0, 0.0, 0.0, 0.7999878, 0.0, ...</td>\n",
       "      <td>[0, 0, 0, 0, 0, 0, 0, 0, 0, 0, 0, 0, 0, 0, 0, ...</td>\n",
       "    </tr>\n",
       "    <tr>\n",
       "      <th>49</th>\n",
       "      <td>80726</td>\n",
       "      <td>2018</td>\n",
       "      <td>[Calluna vulgaris, Silene flos-cuculi, Thlaspi...</td>\n",
       "      <td>5.182497</td>\n",
       "      <td>59.229051</td>\n",
       "      <td>[[[0.4809351, 0.0, 0.0, 0.0, 0.7999878, 0.0, 0...</td>\n",
       "      <td>[0, 0, 0, 0, 0, 0, 0, 0, 0, 0, 0, 0, 0, 0, 0, ...</td>\n",
       "    </tr>\n",
       "    <tr>\n",
       "      <th>...</th>\n",
       "      <td>...</td>\n",
       "      <td>...</td>\n",
       "      <td>...</td>\n",
       "      <td>...</td>\n",
       "      <td>...</td>\n",
       "      <td>...</td>\n",
       "      <td>...</td>\n",
       "    </tr>\n",
       "    <tr>\n",
       "      <th>71381</th>\n",
       "      <td>1682879</td>\n",
       "      <td>2018</td>\n",
       "      <td>[Lathyrus japonicus, Plantago maritima, Urtica...</td>\n",
       "      <td>28.683087</td>\n",
       "      <td>70.178482</td>\n",
       "      <td>[[[0.6811869, 0.6164894, 0.33202517, 0.1088326...</td>\n",
       "      <td>[0, 0, 0, 0, 0, 0, 0, 0, 0, 0, 0, 0, 0, 0, 0, ...</td>\n",
       "    </tr>\n",
       "    <tr>\n",
       "      <th>71399</th>\n",
       "      <td>1694813</td>\n",
       "      <td>2018</td>\n",
       "      <td>[Leymus arenarius, Hippuris lanceolata, Parnas...</td>\n",
       "      <td>28.876395</td>\n",
       "      <td>70.144992</td>\n",
       "      <td>[[[0.46484423, 0.78116536, 0.46049523, 0.32456...</td>\n",
       "      <td>[0, 0, 0, 0, 0, 0, 0, 0, 0, 0, 0, 0, 0, 0, 0, ...</td>\n",
       "    </tr>\n",
       "    <tr>\n",
       "      <th>71464</th>\n",
       "      <td>1727626</td>\n",
       "      <td>2018</td>\n",
       "      <td>[Atriplex nudicaulis, Oxytropis campestris, As...</td>\n",
       "      <td>29.370979</td>\n",
       "      <td>70.004077</td>\n",
       "      <td>[[[0.51679707, 0.6700247, 0.63551474, 0.459785...</td>\n",
       "      <td>[0, 0, 0, 0, 0, 0, 0, 0, 0, 0, 0, 0, 0, 0, 0, ...</td>\n",
       "    </tr>\n",
       "    <tr>\n",
       "      <th>71687</th>\n",
       "      <td>1785872</td>\n",
       "      <td>2018</td>\n",
       "      <td>[Phyllodoce caerulea, Cerastium alpinum, Pyrol...</td>\n",
       "      <td>30.743051</td>\n",
       "      <td>70.420846</td>\n",
       "      <td>[[[0.50547314, 0.614113, 0.55096126, 0.4034529...</td>\n",
       "      <td>[0, 0, 0, 0, 0, 0, 0, 0, 0, 0, 0, 0, 0, 0, 0, ...</td>\n",
       "    </tr>\n",
       "    <tr>\n",
       "      <th>71694</th>\n",
       "      <td>1787252</td>\n",
       "      <td>2018</td>\n",
       "      <td>[Caltha palustris, Chamaenerion angustifolium,...</td>\n",
       "      <td>30.038984</td>\n",
       "      <td>69.450277</td>\n",
       "      <td>[[[0.31265736, 0.651207, 0.6084976, 0.27191174...</td>\n",
       "      <td>[0, 0, 0, 0, 0, 0, 0, 0, 0, 0, 0, 0, 0, 0, 0, ...</td>\n",
       "    </tr>\n",
       "  </tbody>\n",
       "</table>\n",
       "<p>5029 rows × 7 columns</p>\n",
       "</div>"
      ],
      "text/plain": [
       "       grid_index  year                                            species  \\\n",
       "7           79231  2018  [Tripolium pannonicum, Dactylorhiza majalis, L...   \n",
       "33          80722  2018  [Lonicera periclymenum, Honckenya peploides, T...   \n",
       "39          80723  2018  [Ficaria verna, Sanguisorba officinalis, Primu...   \n",
       "43          80725  2018  [Aegopodium podagraria, Galium aparine, Lotus ...   \n",
       "49          80726  2018  [Calluna vulgaris, Silene flos-cuculi, Thlaspi...   \n",
       "...           ...   ...                                                ...   \n",
       "71381     1682879  2018  [Lathyrus japonicus, Plantago maritima, Urtica...   \n",
       "71399     1694813  2018  [Leymus arenarius, Hippuris lanceolata, Parnas...   \n",
       "71464     1727626  2018  [Atriplex nudicaulis, Oxytropis campestris, As...   \n",
       "71687     1785872  2018  [Phyllodoce caerulea, Cerastium alpinum, Pyrol...   \n",
       "71694     1787252  2018  [Caltha palustris, Chamaenerion angustifolium,...   \n",
       "\n",
       "       longitude   latitude  \\\n",
       "7       5.172939  59.201189   \n",
       "33      5.192753  59.193655   \n",
       "39      5.190191  59.202504   \n",
       "43      5.185063  59.220202   \n",
       "49      5.182497  59.229051   \n",
       "...          ...        ...   \n",
       "71381  28.683087  70.178482   \n",
       "71399  28.876395  70.144992   \n",
       "71464  29.370979  70.004077   \n",
       "71687  30.743051  70.420846   \n",
       "71694  30.038984  69.450277   \n",
       "\n",
       "                                            climatic_map  \\\n",
       "7      [[[0.5033312, 0.0, 0.0, 0.0, 0.7999878, 0.0, 0...   \n",
       "33     [[[0.49577808, 0.0, 0.0, 0.0, 0.7999878, 0.0, ...   \n",
       "39     [[[0.47734928, 0.0, 0.0, 0.0, 0.7999878, 0.0, ...   \n",
       "43     [[[0.47350216, 0.0, 0.0, 0.0, 0.7999878, 0.0, ...   \n",
       "49     [[[0.4809351, 0.0, 0.0, 0.0, 0.7999878, 0.0, 0...   \n",
       "...                                                  ...   \n",
       "71381  [[[0.6811869, 0.6164894, 0.33202517, 0.1088326...   \n",
       "71399  [[[0.46484423, 0.78116536, 0.46049523, 0.32456...   \n",
       "71464  [[[0.51679707, 0.6700247, 0.63551474, 0.459785...   \n",
       "71687  [[[0.50547314, 0.614113, 0.55096126, 0.4034529...   \n",
       "71694  [[[0.31265736, 0.651207, 0.6084976, 0.27191174...   \n",
       "\n",
       "                                          species_vector  \n",
       "7      [0, 0, 1, 0, 0, 0, 0, 0, 0, 0, 0, 0, 0, 0, 0, ...  \n",
       "33     [0, 0, 0, 0, 0, 0, 0, 0, 0, 0, 0, 0, 0, 0, 0, ...  \n",
       "39     [0, 0, 0, 0, 0, 0, 0, 0, 0, 0, 0, 0, 0, 0, 0, ...  \n",
       "43     [0, 0, 0, 0, 0, 0, 0, 0, 0, 0, 0, 0, 0, 0, 0, ...  \n",
       "49     [0, 0, 0, 0, 0, 0, 0, 0, 0, 0, 0, 0, 0, 0, 0, ...  \n",
       "...                                                  ...  \n",
       "71381  [0, 0, 0, 0, 0, 0, 0, 0, 0, 0, 0, 0, 0, 0, 0, ...  \n",
       "71399  [0, 0, 0, 0, 0, 0, 0, 0, 0, 0, 0, 0, 0, 0, 0, ...  \n",
       "71464  [0, 0, 0, 0, 0, 0, 0, 0, 0, 0, 0, 0, 0, 0, 0, ...  \n",
       "71687  [0, 0, 0, 0, 0, 0, 0, 0, 0, 0, 0, 0, 0, 0, 0, ...  \n",
       "71694  [0, 0, 0, 0, 0, 0, 0, 0, 0, 0, 0, 0, 0, 0, 0, ...  \n",
       "\n",
       "[5029 rows x 7 columns]"
      ]
     },
     "execution_count": 9,
     "metadata": {},
     "output_type": "execute_result"
    }
   ],
   "source": [
    "with open(r\"../data/Full_Scale/10_filtered_vectorized_gbif_assemblages_climatic_1991-2018_32.pkl\", \"rb\") as file:\n",
    "    df = pickle.load(file)\n",
    "df_2018 = df[df[\"year\"] == 2018]\n",
    "df_2018"
   ]
  },
  {
   "cell_type": "code",
   "execution_count": 10,
   "id": "7b2beb78-3cbc-4848-9e9a-a8a033d931bc",
   "metadata": {},
   "outputs": [],
   "source": [
    "# Convert species vectors to a NumPy array and sum along axis 0 (columns)\n",
    "class_counts = np.sum(np.stack(df_2018['species_vector'].values), axis=0)\n",
    "\n",
    "# Convert to dictionary format {class_index: count}\n",
    "class_counts_dict = {i: int(count) for i, count in enumerate(class_counts)}\n",
    "\n",
    "# print(class_counts_dict)"
   ]
  },
  {
   "cell_type": "markdown",
   "id": "92ec875e-14f2-462c-8d77-0fd1113fe73e",
   "metadata": {},
   "source": [
    "### Pytorch Dataset"
   ]
  },
  {
   "cell_type": "code",
   "execution_count": 11,
   "id": "659c6a41-47bc-466d-a0ed-3d157e966411",
   "metadata": {},
   "outputs": [],
   "source": [
    "class MultiLabelDataset(Dataset):\n",
    "    def __init__(self):\n",
    "        # self.x_train, self.x_val, self.x_test, self.y_train, self.y_val, self.y_test = None, None, None, None, None, None\n",
    "        self.mode = 'test'\n",
    "\n",
    "        self.images_no_perm = torch.tensor(np.stack(df_2018['climatic_map'].values).astype(np.float32))#.to(device)  # Move data to GPU\n",
    "        self.labels = torch.tensor(np.stack(df_2018['species_vector'].values).astype(np.float32))#.to(device)  # Move labels to GPU\n",
    "        self.images = []\n",
    "    \n",
    "        permuted_images = []\n",
    "        for image in self.images_no_perm:\n",
    "            permuted_image = image.permute(2, 0, 1)\n",
    "            self.images.append(permuted_image)\n",
    "        \n",
    "        \n",
    "\n",
    "    # def train_val_test_split(self):\n",
    "    #     self.x_train, self.x_test, self.y_train, self.y_test = train_test_split(self.images, self.labels, test_size = 0.15, random_state=42)\n",
    "    #     self.x_train, self.x_val, self.y_train, self.y_val = train_test_split(self.x_train, self.y_train, test_size = 0.15, random_state=42)\n",
    "    def __len__(self):\n",
    "\n",
    "        if self.mode == 'test':\n",
    "            return len(self.images)\n",
    "\n",
    "\n",
    "    def __getitem__(self, idx):\n",
    "        if self.mode == 'test':\n",
    "            sample = {'images': self.images[idx], 'labels': self.labels[idx]}\n",
    "\n",
    "        return sample"
   ]
  },
  {
   "cell_type": "markdown",
   "id": "ae69b204-5ff5-4b1e-aeee-49d9ff06fecb",
   "metadata": {},
   "source": [
    "### CustomLoss"
   ]
  },
  {
   "cell_type": "code",
   "execution_count": 12,
   "id": "88d92437-9029-454e-89f1-5a4db34e78bc",
   "metadata": {},
   "outputs": [],
   "source": [
    "import torch.nn.functional as F\n",
    "import torch.distributed as dist\n",
    "import argparse\n",
    "\n",
    "class CustomLoss(nn.Module):\n",
    "    def __init__(self, loss_fn, args):\n",
    "        super(CustomLoss, self).__init__()\n",
    "        self.loss_fn = loss_fn\n",
    "        self.weighted = args.weighted\n",
    "        self.args = args\n",
    "        if self.weighted:\n",
    "            self.samples_per_cls = list(args.train_label_cnt.values())\n",
    "            self.no_of_classes = args.num_classes\n",
    "\n",
    "    def compute_weights(self, labels, beta=0.9999):\n",
    "        effective_num = 1.0 - np.power(beta, self.samples_per_cls)\n",
    "        weights = (1.0 - beta) / np.array(effective_num)\n",
    "        weights = weights / weights.sum() * self.no_of_classes\n",
    "        labels_one_hot = labels\n",
    "\n",
    "        weights = torch.tensor(weights).float().to(self.args.device, non_blocking=True)\n",
    "        weights = weights.unsqueeze(0)\n",
    "        weights = weights.repeat(labels_one_hot.shape[0],1) * labels_one_hot\n",
    "        \n",
    "        return weights\n",
    "    \n",
    "    def forward_focal(self, logits, labels,alpha=0.999,gamma=2.0):\n",
    "        p = torch.sigmoid(logits)\n",
    "        ce_loss = F.binary_cross_entropy_with_logits(logits, labels, reduction=\"none\")\n",
    "        p_t = p * labels + (1 - p) * (1 - labels)\n",
    "        loss = ce_loss * ((1 - p_t) ** gamma)\n",
    "        \n",
    "        if self.weighted:\n",
    "            weights = self.compute_weights(labels)\n",
    "            weights_t = weights * labels * alpha + (1 - labels) * (1 - alpha)\n",
    "            weighted_loss = weights_t * loss\n",
    "            focal_loss = weighted_loss.mean()\n",
    "        \n",
    "        else:\n",
    "            alpha_t = alpha * labels + (1 - alpha) * (1 - labels)\n",
    "            focal_loss = alpha_t * loss\n",
    "            focal_loss = focal_loss.mean()\n",
    "        \n",
    "        return focal_loss\n",
    "\n",
    "    \n",
    "    def forward_bce(self, logits, labels):\n",
    "        if self.weighted:\n",
    "            weights = self.compute_weights(labels)\n",
    "            bce_loss = F.binary_cross_entropy_with_logits(logits, labels, pos_weight = weights)\n",
    "        else:\n",
    "            bce_loss = F.binary_cross_entropy_with_logits(logits, labels)\n",
    "        \n",
    "        return bce_loss\n",
    "    \n",
    "    \n",
    "    def forward_dice(self, logits, labels):\n",
    "        p = torch.sigmoid(logits)\n",
    "        smooth = 1.0\n",
    "        intersection = (p * labels).sum(0)\n",
    "        total = (p**2 + labels**2).sum(0)\n",
    "        dice_loss = 1 - (intersection + smooth)/(total + smooth)\n",
    "        \n",
    "        return dice_loss.mean()\n",
    "    \n",
    "    \n",
    "    def forward(self, logits, labels):\n",
    "        if self.loss_fn == 'bce':\n",
    "            return self.forward_bce(logits, labels)\n",
    "        elif self.loss_fn == 'focal':\n",
    "            return self.forward_focal(logits, labels)\n",
    "        elif self.loss_fn == 'dice':\n",
    "            return self.forward_dice(logits, labels)"
   ]
  },
  {
   "cell_type": "markdown",
   "id": "4e2d2828-018e-4849-867b-5671ddadac55",
   "metadata": {},
   "source": [
    "### Evaluation Metrics"
   ]
  },
  {
   "cell_type": "code",
   "execution_count": 13,
   "id": "9d4282c5-9081-49a2-8a28-a8b670464b46",
   "metadata": {},
   "outputs": [],
   "source": [
    "def compute_scores(outputs, targets, threshold=0.45):\n",
    "    \n",
    "    prob = outputs >= threshold\n",
    "    label = targets >= threshold\n",
    "    TP = (prob & label).sum(0).float()\n",
    "    TN = ((~prob) & (~label)).sum(0).float()\n",
    "    FP = (prob & (~label)).sum(0).float()\n",
    "    FN = ((~prob) & label).sum(0).float()\n",
    "    \n",
    "    return TP, TN, FP, FN\n",
    "\n",
    "\n",
    "def compute_metrics(TP, TN, FP, FN, weight):\n",
    "    \n",
    "    # macro true skill score\n",
    "    macro_recall = TP / (TP + FN + 1e-8)\n",
    "    macro_specificity = TN / (TN + FP + 1e-8)\n",
    "    macro_tss = torch.mean(macro_recall + macro_specificity - 1)\n",
    "    \n",
    "    # micro true skill score\n",
    "    micro_recall = TP.sum() / (TP.sum() + FN.sum())\n",
    "    micro_specificity = TN.sum() / (TN.sum() + FP.sum())\n",
    "    micro_tss = micro_recall + micro_specificity - 1\n",
    "    \n",
    "    # weighted true skill score\n",
    "    weighted_recall = weight @ macro_recall\n",
    "    weighted_specificity = weight @ macro_specificity\n",
    "    weighted_tss = weighted_recall + weighted_specificity - 1\n",
    "    \n",
    "    # true skill score per class\n",
    "    \n",
    "    return macro_tss.item(), micro_tss.item(), weighted_tss.item()\n",
    "\n",
    "\n",
    "def compute_metrics_per_cls(TP, TN, FP, FN):\n",
    "    \n",
    "    # macro true skill score\n",
    "    recall = TP / (TP + FN + 1e-8)\n",
    "    specificity = TN / (TN + FP + 1e-8)\n",
    "    \n",
    "    #P = TP + FN\n",
    "    #N = FP + TN\n",
    "    #prevalence = P / (P + N + 1e-8)\n",
    "    \n",
    "    # true skill score per class\n",
    "    tss = recall + specificity - 1\n",
    "    \n",
    "    return recall, specificity, tss\n",
    "    \n",
    "\n",
    "def evaluate(model, eval_loader, criterion,thresholds, args):\n",
    "    \n",
    "    TP, TN, FP, FN = 0., 0., 0., 0.\n",
    "    label_cnt = 0.\n",
    "    eval_loss = []\n",
    "    model.eval()\n",
    "    with torch.no_grad():\n",
    "        # for data, targets in tqdm(eval_loader, file=sys.stdout):\n",
    "        for batch in eval_loader:\n",
    "            if args.model_type==\"MLP\" or args.model_type==\"CNN\" or args.model_type==\"ViT\":\n",
    "                samples = batch['images'].to(args.device, non_blocking=True)\n",
    "                outputs = model(samples)\n",
    "            elif args.model_type==\"Fusion\":\n",
    "                samples_img, samples_meta = data\n",
    "                samples_img = samples_img.to(args.device, non_blocking=True)\n",
    "                samples_meta = samples_meta.to(args.device, non_blocking=True)\n",
    "                outputs = model(samples_img, samples_meta)\n",
    "                \n",
    "            targets = batch['labels'].to(args.device, non_blocking=True)\n",
    "            label_cnt += targets.sum(0).float()\n",
    "            \n",
    "            loss = criterion(outputs, targets)\n",
    "            eval_loss.append(loss.item())\n",
    "            \n",
    "            if args.thres_method == 'adaptive':\n",
    "                # thresholds = torch.load(args.output_dir.joinpath('thresholds_train.pth'))\n",
    "                thresholds = torch.tensor(thresholds, dtype=torch.float32).to(\"cuda:0\")\n",
    "                # thresholds = torch.tensor(thresholds).to(args.device)\n",
    "            elif args.thres_method == 'global':\n",
    "                thresholds = args.threshold\n",
    "                \n",
    "            tp, tn, fp, fn = compute_scores(torch.sigmoid(outputs), targets, thresholds)\n",
    "            TP += tp\n",
    "            TN += tn\n",
    "            FP += fp\n",
    "            FN += fn\n",
    "        \n",
    "        eval_loss = torch.tensor(eval_loss).mean().item()\n",
    "        weight = label_cnt / label_cnt.sum()\n",
    "        macro_tss, micro_tss, weighted_tss = compute_metrics(TP, TN, FP, FN, weight=weight)\n",
    "        \n",
    "        if args.eval:\n",
    "            recall, spec, tss = compute_metrics_per_cls(TP, TN, FP, FN)\n",
    "            species = []\n",
    "            cdref2species = pd.read_csv('filelist/cdref2species.csv')\n",
    "            for ref in list(map(float, args.classes)):\n",
    "                temp = cdref2species.loc[cdref2species.cd_ref==ref]\n",
    "                species.append(temp.nom_reconnu.values[0])\n",
    "            df = pd.DataFrame({'species':species, 'train_cnt':args.train_label_cnt.values(), 'test_cnt': args.test_label_cnt.values(), 'recall': recall.detach().cpu(), 'specificity': spec.detach().cpu(), 'tss':tss.detach().cpu()})\n",
    "            df.to_csv(args.output_dir.joinpath('{}_tss_per_cls.csv'.format(args.model_type)), index=False)\n",
    "            print('Per class performance saved!')\n",
    "        \n",
    "        eval_stats = {'eval_loss': eval_loss, 'macro_tss': macro_tss, 'micro_tss': micro_tss, 'weighted_tss': weighted_tss}\n",
    "        \n",
    "        return eval_stats"
   ]
  },
  {
   "cell_type": "code",
   "execution_count": 14,
   "id": "9aa809a0-98b3-40b9-813e-a47a935d151d",
   "metadata": {},
   "outputs": [],
   "source": [
    "# Example args (you can replace it with your actual arguments)\n",
    "class Args:\n",
    "    def __init__(self):\n",
    "        self.weighted = True  # Set to False if no class weighting is needed\n",
    "        self.train_label_cnt = class_counts_dict  # Example class counts\n",
    "        self.num_classes = 1819  # Binary classification\n",
    "        self.device = torch.device('cuda' if torch.cuda.is_available() else 'cpu')\n",
    "        self.model_type = 'CNN'\n",
    "        self.eval = False\n",
    "        self.thres_method = 'adaptive' # 'global'\n",
    "        self.threshold = 0.15"
   ]
  },
  {
   "cell_type": "code",
   "execution_count": 15,
   "id": "ae3b2b1d-ac72-4972-ab8d-d8cc5b718095",
   "metadata": {},
   "outputs": [],
   "source": [
    "# Function to set the seed for each worker\n",
    "def seed_worker(worker_id):\n",
    "    # Set seed for Python and NumPy in each worker\n",
    "    worker_seed = torch.initial_seed() % 2**32\n",
    "    np.random.seed(worker_seed)\n",
    "    random.seed(worker_seed)"
   ]
  },
  {
   "cell_type": "code",
   "execution_count": 16,
   "id": "67c88f43-2a9f-4393-a1b6-e2248fa72b9c",
   "metadata": {},
   "outputs": [
    {
     "name": "stdout",
     "output_type": "stream",
     "text": [
      "5029\n"
     ]
    }
   ],
   "source": [
    "mlc_dataset = MultiLabelDataset()\n",
    "print(len(mlc_dataset))\n",
    "# mlc_dataset.train_val_test_split()\n",
    "dataloader = DataLoader(mlc_dataset, batch_size = 32, shuffle = True, worker_init_fn=seed_worker)"
   ]
  },
  {
   "cell_type": "code",
   "execution_count": 17,
   "id": "d174f4f6-5134-4ea4-90e7-03bdc57430e7",
   "metadata": {},
   "outputs": [],
   "source": [
    "device = torch.device('cuda:0')"
   ]
  },
  {
   "cell_type": "markdown",
   "id": "fd5fc9b4-c66d-4f5b-9c17-3bb82afc836a",
   "metadata": {},
   "source": [
    "### Model"
   ]
  },
  {
   "cell_type": "code",
   "execution_count": 18,
   "id": "c8128a44-637d-455f-ace4-75d847c2769e",
   "metadata": {},
   "outputs": [],
   "source": [
    "from torchvision import models, transforms\n",
    "\n",
    "# # Define Custom ResNet18 model\n",
    "# class CustomResNet18(nn.Module):\n",
    "#     def __init__(self, num_classes):\n",
    "#         super(CustomResNet18, self).__init__()\n",
    "        \n",
    "#         # Load Pretrained ResNet18\n",
    "#         self.resnet = models.resnet18(weights=models.ResNet18_Weights.IMAGENET1K_V1)\n",
    "\n",
    "#         # Modify the first convolutional layer to accept 11 channels instead of 3\n",
    "#         self.resnet.conv1 = nn.Conv2d(11, 64, kernel_size=7, stride=2, padding=3, bias=False)\n",
    "\n",
    "#         # Modify the final fully connected layer to match the number of classes\n",
    "#         self.in_features = self.resnet.fc.in_features\n",
    "#         self.resnet.fc = nn.Linear(self.in_features, num_classes)\n",
    "\n",
    "#         # Freeze all layers initially\n",
    "#         for param in self.resnet.parameters():\n",
    "#             param.requires_grad = False\n",
    "\n",
    "#     def forward(self, x):\n",
    "#         return self.resnet(x)\n",
    "\n",
    "class CustomResNet18(nn.Module):\n",
    "    def __init__(self, num_classes):\n",
    "        super(CustomResNet18, self).__init__()\n",
    "\n",
    "        # Load Pretrained ResNet18\n",
    "        self.resnet = models.resnet18(weights=models.ResNet18_Weights.IMAGENET1K_V1)\n",
    "\n",
    "        # Modify the first convolutional layer to accept 11 channels instead of 3\n",
    "        self.resnet.conv1 = nn.Conv2d(11, 64, kernel_size=7, stride=2, padding=3, bias=False)\n",
    "\n",
    "        # Access layers up to the last block of layer4\n",
    "        # self.features_conv = self.resnet.layer4[-1]  # Excluding the last block in layer4\n",
    "        self.hook = self.resnet.layer3[-1].conv2.register_forward_hook(self.hook_fn)\n",
    "        self.activations = None\n",
    "\n",
    "        # Modify the final fully connected layer to match the number of classes     \n",
    "        self.in_features = self.resnet.fc.in_features\n",
    "        self.resnet.fc = nn.Linear(self.in_features, num_classes)\n",
    "\n",
    "        # Freeze all layers initially\n",
    "        for param in self.resnet.parameters():\n",
    "            param.requires_grad = False\n",
    "\n",
    "        # Placeholder for gradients\n",
    "        self.gradients = None\n",
    "\n",
    "    # Hook for capturing gradients during backward pass\n",
    "    def activations_hook(self, grad):\n",
    "        self.gradients = grad\n",
    "        \n",
    "    def hook_fn(self, module, input, output):\n",
    "        # Store activations from the last convolutional layer\n",
    "        self.activations = output\n",
    "        \n",
    "    # Forward pass through the network\n",
    "    def forward(self, x):\n",
    "        # Pass through the layers until the last convolutional block\n",
    "        x = self.resnet.conv1(x)\n",
    "        x = self.resnet.bn1(x)\n",
    "        x = self.resnet.relu(x)\n",
    "        x = self.resnet.maxpool(x)\n",
    "\n",
    "        # Register the hook on the output of the last convolutional layer (conv2 of the last block)\n",
    "        x = self.resnet.layer1(x)\n",
    "        x = self.resnet.layer2(x)\n",
    "        x = self.resnet.layer3(x)\n",
    "        x = self.resnet.layer4(x)\n",
    "        \n",
    "        # Register hook on the output of the last convolutional layer in layer4[1]\n",
    "        x.requires_grad_()  # Enable gradient computation for this tensor\n",
    "        h = x.register_hook(self.activations_hook)\n",
    "        \n",
    "        # Continue through the network\n",
    "        x = self.resnet.avgpool(x)\n",
    "        x = torch.flatten(x, 1)\n",
    "        x = self.resnet.fc(x)\n",
    "        \n",
    "        return x\n",
    "\n",
    "    # Method to get the captured gradients\n",
    "    def get_activations_gradient(self):\n",
    "        return self.gradients\n",
    "\n",
    "    # Method to get activations from the last convolutional layer (optional)\n",
    "    def get_activations(self):\n",
    "        return self.activations\n",
    "    "
   ]
  },
  {
   "cell_type": "code",
   "execution_count": null,
   "id": "c101de99-8e56-492c-bcf2-cc92a7c35035",
   "metadata": {},
   "outputs": [],
   "source": []
  },
  {
   "cell_type": "code",
   "execution_count": 19,
   "id": "7ab431f4-787c-4e36-adf3-84ea0a36274e",
   "metadata": {},
   "outputs": [],
   "source": [
    "# Load the NumPy array from the pickle file\n",
    "with open('../models/thresholds_focal_RESNET18_49_tss_2017.pkl', 'rb') as f:\n",
    "    loaded_thresholds = pickle.load(f)"
   ]
  },
  {
   "cell_type": "code",
   "execution_count": 20,
   "id": "e4aaa53c-b476-45f8-a932-84349e8e1197",
   "metadata": {},
   "outputs": [],
   "source": [
    "PATH = '../models/RESNET18_49_tss_2017'\n",
    "# torch.save(model_RESNET_FOCAL.state_dict(), PATH)"
   ]
  },
  {
   "cell_type": "code",
   "execution_count": 21,
   "id": "5de23849-6957-4ddd-9eda-d7bae89ec69c",
   "metadata": {
    "tags": []
   },
   "outputs": [
    {
     "data": {
      "text/plain": [
       "CustomResNet18(\n",
       "  (resnet): ResNet(\n",
       "    (conv1): Conv2d(11, 64, kernel_size=(7, 7), stride=(2, 2), padding=(3, 3), bias=False)\n",
       "    (bn1): BatchNorm2d(64, eps=1e-05, momentum=0.1, affine=True, track_running_stats=True)\n",
       "    (relu): ReLU(inplace=True)\n",
       "    (maxpool): MaxPool2d(kernel_size=3, stride=2, padding=1, dilation=1, ceil_mode=False)\n",
       "    (layer1): Sequential(\n",
       "      (0): BasicBlock(\n",
       "        (conv1): Conv2d(64, 64, kernel_size=(3, 3), stride=(1, 1), padding=(1, 1), bias=False)\n",
       "        (bn1): BatchNorm2d(64, eps=1e-05, momentum=0.1, affine=True, track_running_stats=True)\n",
       "        (relu): ReLU(inplace=True)\n",
       "        (conv2): Conv2d(64, 64, kernel_size=(3, 3), stride=(1, 1), padding=(1, 1), bias=False)\n",
       "        (bn2): BatchNorm2d(64, eps=1e-05, momentum=0.1, affine=True, track_running_stats=True)\n",
       "      )\n",
       "      (1): BasicBlock(\n",
       "        (conv1): Conv2d(64, 64, kernel_size=(3, 3), stride=(1, 1), padding=(1, 1), bias=False)\n",
       "        (bn1): BatchNorm2d(64, eps=1e-05, momentum=0.1, affine=True, track_running_stats=True)\n",
       "        (relu): ReLU(inplace=True)\n",
       "        (conv2): Conv2d(64, 64, kernel_size=(3, 3), stride=(1, 1), padding=(1, 1), bias=False)\n",
       "        (bn2): BatchNorm2d(64, eps=1e-05, momentum=0.1, affine=True, track_running_stats=True)\n",
       "      )\n",
       "    )\n",
       "    (layer2): Sequential(\n",
       "      (0): BasicBlock(\n",
       "        (conv1): Conv2d(64, 128, kernel_size=(3, 3), stride=(2, 2), padding=(1, 1), bias=False)\n",
       "        (bn1): BatchNorm2d(128, eps=1e-05, momentum=0.1, affine=True, track_running_stats=True)\n",
       "        (relu): ReLU(inplace=True)\n",
       "        (conv2): Conv2d(128, 128, kernel_size=(3, 3), stride=(1, 1), padding=(1, 1), bias=False)\n",
       "        (bn2): BatchNorm2d(128, eps=1e-05, momentum=0.1, affine=True, track_running_stats=True)\n",
       "        (downsample): Sequential(\n",
       "          (0): Conv2d(64, 128, kernel_size=(1, 1), stride=(2, 2), bias=False)\n",
       "          (1): BatchNorm2d(128, eps=1e-05, momentum=0.1, affine=True, track_running_stats=True)\n",
       "        )\n",
       "      )\n",
       "      (1): BasicBlock(\n",
       "        (conv1): Conv2d(128, 128, kernel_size=(3, 3), stride=(1, 1), padding=(1, 1), bias=False)\n",
       "        (bn1): BatchNorm2d(128, eps=1e-05, momentum=0.1, affine=True, track_running_stats=True)\n",
       "        (relu): ReLU(inplace=True)\n",
       "        (conv2): Conv2d(128, 128, kernel_size=(3, 3), stride=(1, 1), padding=(1, 1), bias=False)\n",
       "        (bn2): BatchNorm2d(128, eps=1e-05, momentum=0.1, affine=True, track_running_stats=True)\n",
       "      )\n",
       "    )\n",
       "    (layer3): Sequential(\n",
       "      (0): BasicBlock(\n",
       "        (conv1): Conv2d(128, 256, kernel_size=(3, 3), stride=(2, 2), padding=(1, 1), bias=False)\n",
       "        (bn1): BatchNorm2d(256, eps=1e-05, momentum=0.1, affine=True, track_running_stats=True)\n",
       "        (relu): ReLU(inplace=True)\n",
       "        (conv2): Conv2d(256, 256, kernel_size=(3, 3), stride=(1, 1), padding=(1, 1), bias=False)\n",
       "        (bn2): BatchNorm2d(256, eps=1e-05, momentum=0.1, affine=True, track_running_stats=True)\n",
       "        (downsample): Sequential(\n",
       "          (0): Conv2d(128, 256, kernel_size=(1, 1), stride=(2, 2), bias=False)\n",
       "          (1): BatchNorm2d(256, eps=1e-05, momentum=0.1, affine=True, track_running_stats=True)\n",
       "        )\n",
       "      )\n",
       "      (1): BasicBlock(\n",
       "        (conv1): Conv2d(256, 256, kernel_size=(3, 3), stride=(1, 1), padding=(1, 1), bias=False)\n",
       "        (bn1): BatchNorm2d(256, eps=1e-05, momentum=0.1, affine=True, track_running_stats=True)\n",
       "        (relu): ReLU(inplace=True)\n",
       "        (conv2): Conv2d(256, 256, kernel_size=(3, 3), stride=(1, 1), padding=(1, 1), bias=False)\n",
       "        (bn2): BatchNorm2d(256, eps=1e-05, momentum=0.1, affine=True, track_running_stats=True)\n",
       "      )\n",
       "    )\n",
       "    (layer4): Sequential(\n",
       "      (0): BasicBlock(\n",
       "        (conv1): Conv2d(256, 512, kernel_size=(3, 3), stride=(2, 2), padding=(1, 1), bias=False)\n",
       "        (bn1): BatchNorm2d(512, eps=1e-05, momentum=0.1, affine=True, track_running_stats=True)\n",
       "        (relu): ReLU(inplace=True)\n",
       "        (conv2): Conv2d(512, 512, kernel_size=(3, 3), stride=(1, 1), padding=(1, 1), bias=False)\n",
       "        (bn2): BatchNorm2d(512, eps=1e-05, momentum=0.1, affine=True, track_running_stats=True)\n",
       "        (downsample): Sequential(\n",
       "          (0): Conv2d(256, 512, kernel_size=(1, 1), stride=(2, 2), bias=False)\n",
       "          (1): BatchNorm2d(512, eps=1e-05, momentum=0.1, affine=True, track_running_stats=True)\n",
       "        )\n",
       "      )\n",
       "      (1): BasicBlock(\n",
       "        (conv1): Conv2d(512, 512, kernel_size=(3, 3), stride=(1, 1), padding=(1, 1), bias=False)\n",
       "        (bn1): BatchNorm2d(512, eps=1e-05, momentum=0.1, affine=True, track_running_stats=True)\n",
       "        (relu): ReLU(inplace=True)\n",
       "        (conv2): Conv2d(512, 512, kernel_size=(3, 3), stride=(1, 1), padding=(1, 1), bias=False)\n",
       "        (bn2): BatchNorm2d(512, eps=1e-05, momentum=0.1, affine=True, track_running_stats=True)\n",
       "      )\n",
       "    )\n",
       "    (avgpool): AdaptiveAvgPool2d(output_size=(1, 1))\n",
       "    (fc): Linear(in_features=512, out_features=1819, bias=True)\n",
       "  )\n",
       ")"
      ]
     },
     "execution_count": 21,
     "metadata": {},
     "output_type": "execute_result"
    }
   ],
   "source": [
    "num_classes = 1819\n",
    "\n",
    "RESNET18 = CustomResNet18(num_classes=num_classes).to(device)\n",
    "RESNET18.load_state_dict(torch.load(PATH, weights_only=True))\n",
    "# model.to(args.device) \n",
    "RESNET18.eval()\n"
   ]
  },
  {
   "cell_type": "code",
   "execution_count": 22,
   "id": "12f1479d-bca3-4bdc-ad93-c2cc98c28b53",
   "metadata": {},
   "outputs": [],
   "source": [
    "# RESNET18 # Accessing the first two blocks of layer1\n"
   ]
  },
  {
   "cell_type": "code",
   "execution_count": 23,
   "id": "4a28398e-cf75-401f-a2bf-fcc029b21ae7",
   "metadata": {},
   "outputs": [],
   "source": [
    "# for name, module in RESNET18.named_modules():\n",
    "#     print(name, module)"
   ]
  },
  {
   "cell_type": "markdown",
   "id": "cba1528e-161c-4ff4-8106-dfec888da5b5",
   "metadata": {},
   "source": [
    "### Evaluate"
   ]
  },
  {
   "cell_type": "code",
   "execution_count": 24,
   "id": "2d051e99-8f33-44a5-b5ac-d9acfb2ccc30",
   "metadata": {},
   "outputs": [
    {
     "name": "stderr",
     "output_type": "stream",
     "text": [
      "/tmp/ipykernel_17117/4269621591.py:17: RuntimeWarning: divide by zero encountered in divide\n",
      "  weights = (1.0 - beta) / np.array(effective_num)\n",
      "/tmp/ipykernel_17117/4269621591.py:18: RuntimeWarning: invalid value encountered in divide\n",
      "  weights = weights / weights.sum() * self.no_of_classes\n",
      "/tmp/ipykernel_17117/3640960823.py:77: UserWarning: To copy construct from a tensor, it is recommended to use sourceTensor.clone().detach() or sourceTensor.clone().detach().requires_grad_(True), rather than torch.tensor(sourceTensor).\n",
      "  thresholds = torch.tensor(thresholds, dtype=torch.float32).to(\"cuda:0\")\n"
     ]
    },
    {
     "name": "stdout",
     "output_type": "stream",
     "text": [
      "{'eval_loss': nan, 'macro_tss': 0.3840070366859436, 'micro_tss': 0.476947546005249, 'weighted_tss': 0.34012436866760254}\n"
     ]
    }
   ],
   "source": [
    "args = Args()\n",
    "\n",
    "mlc_dataset.mode = 'test'\n",
    "eval_stats = evaluate(model = RESNET18, eval_loader = dataloader, criterion = CustomLoss('focal', args), thresholds = loaded_thresholds, args = Args())\n",
    "print(eval_stats)"
   ]
  },
  {
   "cell_type": "markdown",
   "id": "cf966cb2-0d72-4e00-9ebf-9591e461c000",
   "metadata": {},
   "source": [
    "### Focus on SP"
   ]
  },
  {
   "cell_type": "code",
   "execution_count": 25,
   "id": "9202b99a-3414-4e97-bbc8-618d8c390fe4",
   "metadata": {},
   "outputs": [
    {
     "data": {
      "text/plain": [
       "398"
      ]
     },
     "execution_count": 25,
     "metadata": {},
     "output_type": "execute_result"
    }
   ],
   "source": [
    "with open('../data/species_universe_filtered_10.json', 'rb') as f:\n",
    "    species_universe = json.load(f)\n",
    "    \n",
    "species_universe['Potentilla erecta']"
   ]
  },
  {
   "cell_type": "code",
   "execution_count": 29,
   "id": "25cf4237-22fd-49bb-91a2-1563db4c444e",
   "metadata": {},
   "outputs": [],
   "source": [
    "def extract_position(model, eval_loader, name, criterion,thresholds,args): \n",
    "    selected_images = []\n",
    "    sp_index = species_universe[name]\n",
    "    eval_loss = []\n",
    "    model.eval()\n",
    "    with torch.no_grad():\n",
    "        # for data, targets in tqdm(eval_loader, file=sys.stdout):\n",
    "        for batch in eval_loader:\n",
    "            samples = batch['images'].to(args.device, non_blocking=True)\n",
    "            outputs = model(samples)\n",
    "                \n",
    "            targets = batch['labels'].to(args.device, non_blocking=True)            \n",
    "            loss = criterion(outputs, targets)\n",
    "            eval_loss.append(loss.item())\n",
    "            \n",
    "            if args.thres_method == 'adaptive':\n",
    "                # thresholds = torch.load(args.output_dir.joinpath('thresholds_train.pth'))\n",
    "                thresholds = torch.tensor(thresholds, dtype=torch.float32).to(\"cuda:0\")\n",
    "                # thresholds = torch.tensor(thresholds).to(args.device)\n",
    "            elif args.thres_method == 'global':\n",
    "                thresholds = args.threshold\n",
    "            \n",
    "            prob = torch.sigmoid(outputs) >= thresholds\n",
    "            label = targets >= thresholds\n",
    "            \n",
    "            # print('prob',prob)\n",
    "            # print('prob shape',prob.shape)\n",
    "\n",
    "            # print('label',label)\n",
    "            # print(samples.shape[0])\n",
    "            # Go through the batch\n",
    "            for i in range(samples.shape[0]):\n",
    "                if prob[i][sp_index]:\n",
    "                    selected_images.append(samples[i].cpu())  # .cpu() if you want to manipulate or save later\n",
    "\n",
    "\n",
    "\n",
    "        eval_loss = torch.tensor(eval_loss).mean().item()\n",
    "\n",
    "        return selected_images\n",
    "    "
   ]
  },
  {
   "cell_type": "code",
   "execution_count": 30,
   "id": "52a34de4-106f-42a3-bd5c-85ee28ec7f0b",
   "metadata": {
    "tags": []
   },
   "outputs": [
    {
     "name": "stderr",
     "output_type": "stream",
     "text": [
      "/tmp/ipykernel_17117/4269621591.py:17: RuntimeWarning: divide by zero encountered in divide\n",
      "  weights = (1.0 - beta) / np.array(effective_num)\n",
      "/tmp/ipykernel_17117/4269621591.py:18: RuntimeWarning: invalid value encountered in divide\n",
      "  weights = weights / weights.sum() * self.no_of_classes\n",
      "/tmp/ipykernel_17117/2562459291.py:18: UserWarning: To copy construct from a tensor, it is recommended to use sourceTensor.clone().detach() or sourceTensor.clone().detach().requires_grad_(True), rather than torch.tensor(sourceTensor).\n",
      "  thresholds = torch.tensor(thresholds, dtype=torch.float32).to(\"cuda:0\")\n"
     ]
    }
   ],
   "source": [
    "images = extract_position(model = RESNET18,eval_loader = dataloader,name = 'Potentilla erecta', criterion = CustomLoss('focal', args), thresholds = loaded_thresholds, args = Args())\n"
   ]
  },
  {
   "cell_type": "code",
   "execution_count": 31,
   "id": "a2d043d5-5013-49fb-a1ee-90bf396f30d5",
   "metadata": {},
   "outputs": [
    {
     "data": {
      "text/plain": [
       "(2269, torch.Size([11, 32, 32]))"
      ]
     },
     "execution_count": 31,
     "metadata": {},
     "output_type": "execute_result"
    }
   ],
   "source": [
    "len(images),images[0].shape"
   ]
  },
  {
   "cell_type": "markdown",
   "id": "e570834f-70ad-4ff8-9a3b-ef53193c86b7",
   "metadata": {},
   "source": [
    "### Silency Maps"
   ]
  },
  {
   "cell_type": "code",
   "execution_count": 32,
   "id": "ab5e7ec4-82d0-4eee-8392-7efe5afe9033",
   "metadata": {},
   "outputs": [],
   "source": [
    "img_num = 0\n",
    "\n",
    "# Load image and label\n",
    "image_np = df_2018.iloc[img_num]['climatic_map'].astype(np.float32)  # shape: (H, W, 11)\n",
    "label_np = df_2018.iloc[img_num]['species_vector'].astype(np.float32)  # shape: (num_classes,)\n",
    "\n",
    "# Convert to torch tensors\n",
    "image_tensor = torch.tensor(image_np).permute(2, 0, 1).unsqueeze(0).to(device)  # [1, 11, H, W]\n",
    "label_tensor = torch.tensor(label_np).unsqueeze(0).to(device)  # [1, num_classes]\n"
   ]
  },
  {
   "cell_type": "code",
   "execution_count": 151,
   "id": "10254fff-f978-468d-8472-7410096b48ac",
   "metadata": {},
   "outputs": [
    {
     "data": {
      "text/plain": [
       "torch.Size([11, 32, 32])"
      ]
     },
     "execution_count": 151,
     "metadata": {},
     "output_type": "execute_result"
    }
   ],
   "source": [
    "image_tensor.squeeze().shape"
   ]
  },
  {
   "cell_type": "code",
   "execution_count": 215,
   "id": "40e1b78a-6e70-467b-afc6-055e776c7d38",
   "metadata": {},
   "outputs": [],
   "source": [
    "def saliency(img_num, model):\n",
    "  \n",
    "    image_np = df_2018.iloc[img_num]['climatic_map'].astype(np.float32)  # shape: (H, W, 11)\n",
    "    label_np = df_2018.iloc[img_num]['species_vector'].astype(np.float32)  # shape: (num_classes,)\n",
    "\n",
    "    image_tensor = torch.tensor(image_np).permute(2, 0, 1).unsqueeze(0).to(device)  # [1, 11, H, W]\n",
    "    label_tensor = torch.tensor(label_np).unsqueeze(0).to(device)  # [1, num_classes]\n",
    "    # we would run the model in evaluation mode\n",
    "    model.eval()\n",
    "    X = image_tensor\n",
    "\n",
    "    # we need to find the gradient with respect to the input image, so we need to call requires_grad_ on it\n",
    "    X.requires_grad_()\n",
    "\n",
    "    '''\n",
    "    forward pass through the model to get the scores, note that VGG-19 model doesn't perform softmax at the end\n",
    "    and we also don't need softmax, we need scores, so that's perfect for us.\n",
    "    '''\n",
    "    scores = model(X)\n",
    "\n",
    "    # Get the index corresponding to the maximum score and the maximum score itself.\n",
    "    score_max_index = scores.argmax()\n",
    "    score_max = scores[0,score_max_index]\n",
    "\n",
    "    '''\n",
    "    backward function on score_max performs the backward pass in the computation graph and calculates the gradient of \n",
    "    score_max with respect to nodes in the computation graph\n",
    "    '''\n",
    "    score_max.backward()\n",
    "\n",
    "    '''\n",
    "    Saliency would be the gradient with respect to the input image now. But note that the input image has 3 channels,\n",
    "    R, G and B. To derive a single class saliency value for each pixel (i, j),  we take the maximum magnitude\n",
    "    across all colour channels.\n",
    "    '''\n",
    "    saliency, _ = torch.max(X.grad.data.abs(),dim=1)\n",
    "    print('saliency',saliency)\n",
    "    print('saliency shape',saliency.shape)\n",
    "\n",
    "    saliency = saliency.cpu().detach().numpy()\n",
    "    # code to plot the saliency map as a heatmap\n",
    "    plt.imshow(saliency[0], cmap=plt.cm.hot)\n",
    "    plt.axis('off')\n",
    "    plt.show()"
   ]
  },
  {
   "cell_type": "code",
   "execution_count": 266,
   "id": "959ef09d-2c13-4609-81b2-a87cf4ba3a6c",
   "metadata": {},
   "outputs": [
    {
     "name": "stdout",
     "output_type": "stream",
     "text": [
      "saliency tensor([[[0.0082, 0.0068, 0.0094,  ..., 0.0043, 0.0020, 0.0013],\n",
      "         [0.0061, 0.0089, 0.0085,  ..., 0.0082, 0.0023, 0.0039],\n",
      "         [0.0077, 0.0088, 0.0079,  ..., 0.0118, 0.0037, 0.0047],\n",
      "         ...,\n",
      "         [0.0037, 0.0027, 0.0035,  ..., 0.0092, 0.0069, 0.0042],\n",
      "         [0.0013, 0.0031, 0.0011,  ..., 0.0046, 0.0018, 0.0024],\n",
      "         [0.0013, 0.0019, 0.0023,  ..., 0.0035, 0.0038, 0.0027]]],\n",
      "       device='cuda:0')\n",
      "saliency shape torch.Size([1, 32, 32])\n"
     ]
    },
    {
     "data": {
      "image/png": "[encoded data removed]",
      "text/plain": [
       "<Figure size 640x480 with 1 Axes>"
      ]
     },
     "metadata": {},
     "output_type": "display_data"
    }
   ],
   "source": [
    "saliency(65, RESNET18)\n"
   ]
  },
  {
   "cell_type": "code",
   "execution_count": 56,
   "id": "5bb56cfb-311d-425a-8adc-fc3967dbdb87",
   "metadata": {},
   "outputs": [],
   "source": [
    "def saliency_images(images,num, model):\n",
    "  \n",
    "    # we would run the model in evaluation mode\n",
    "    model.eval()\n",
    "    X = images[num].unsqueeze(0).to(device)\n",
    "    X = X.clone().detach().requires_grad_(True).to(device)\n",
    "\n",
    "    # we need to find the gradient with respect to the input image, so we need to call requires_grad_ on it\n",
    "    X.requires_grad_()\n",
    "    '''\n",
    "    forward pass through the model to get the scores, note that VGG-19 model doesn't perform softmax at the end\n",
    "    and we also don't need softmax, we need scores, so that's perfect for us.\n",
    "    '''\n",
    "    scores = model(X)\n",
    "\n",
    "    # Get the index corresponding to the maximum score and the maximum score itself.\n",
    "    score_max_index = scores.argmax()\n",
    "    score_max = scores[0,score_max_index]\n",
    "\n",
    "    '''\n",
    "    backward function on score_max performs the backward pass in the computation graph and calculates the gradient of \n",
    "    score_max with respect to nodes in the computation graph\n",
    "    '''\n",
    "    score_max.backward()\n",
    "\n",
    "    '''\n",
    "    Saliency would be the gradient with respect to the input image now. But note that the input image has 3 channels,\n",
    "    R, G and B. To derive a single class saliency value for each pixel (i, j),  we take the maximum magnitude\n",
    "    across all colour channels.\n",
    "    '''\n",
    "    saliency, _ = torch.max(X.grad.data.abs(),dim=1)\n",
    "    print('saliency',saliency)\n",
    "    print('saliency shape',saliency.shape)\n",
    "\n",
    "    saliency = saliency.cpu().detach().numpy()\n",
    "    # code to plot the saliency map as a heatmap\n",
    "    plt.imshow(saliency[0], cmap=plt.cm.hot)\n",
    "    plt.axis('off')\n",
    "    plt.show()"
   ]
  },
  {
   "cell_type": "code",
   "execution_count": 69,
   "id": "54e4654b-3444-4829-8b22-5179180e9fe4",
   "metadata": {},
   "outputs": [
    {
     "name": "stdout",
     "output_type": "stream",
     "text": [
      "saliency tensor([[[0.0035, 0.0045, 0.0066,  ..., 0.0033, 0.0011, 0.0023],\n",
      "         [0.0033, 0.0044, 0.0047,  ..., 0.0044, 0.0020, 0.0016],\n",
      "         [0.0058, 0.0052, 0.0080,  ..., 0.0045, 0.0021, 0.0029],\n",
      "         ...,\n",
      "         [0.0026, 0.0032, 0.0032,  ..., 0.0035, 0.0032, 0.0015],\n",
      "         [0.0013, 0.0020, 0.0017,  ..., 0.0030, 0.0017, 0.0010],\n",
      "         [0.0015, 0.0019, 0.0022,  ..., 0.0023, 0.0011, 0.0010]]],\n",
      "       device='cuda:0')\n",
      "saliency shape torch.Size([1, 32, 32])\n"
     ]
    },
    {
     "data": {
      "image/png": "[encoded data removed]",
      "text/plain": [
       "<Figure size 640x480 with 1 Axes>"
      ]
     },
     "metadata": {},
     "output_type": "display_data"
    }
   ],
   "source": [
    "saliency_images(images=images,num=50, model=RESNET18)\n"
   ]
  },
  {
   "cell_type": "markdown",
   "id": "41b46f7d-d1e9-4867-82ba-4981733f9345",
   "metadata": {
    "tags": []
   },
   "source": [
    "## GradCAM"
   ]
  },
  {
   "cell_type": "code",
   "execution_count": 109,
   "id": "e29a7ee5-d517-471e-a559-08966519f49c",
   "metadata": {},
   "outputs": [
    {
     "data": {
      "text/plain": [
       "'images'"
      ]
     },
     "execution_count": 166,
     "metadata": {},
     "output_type": "execute_result"
    }
   ],
   "source": [
    "\n",
    "# get the image from the dataloader\n",
    "img, _ = next(iter(dataloader))\n",
    "img\n",
    "# get the most likely prediction of the model\n",
    "# pred = RESNET18(img).argmax(dim=1)"
   ]
  },
  {
   "cell_type": "code",
   "execution_count": 110,
   "id": "94c56895-c4c4-4102-96a3-2c7e112c3690",
   "metadata": {},
   "outputs": [
    {
     "data": {
      "text/plain": [
       "'Lysimachia europaea'"
      ]
     },
     "execution_count": 167,
     "metadata": {},
     "output_type": "execute_result"
    }
   ],
   "source": [
    "df_2018.iloc[0].species[2]"
   ]
  },
  {
   "cell_type": "markdown",
   "id": "22e08a30-0261-4f8c-acd7-d57cfb889551",
   "metadata": {
    "jp-MarkdownHeadingCollapsed": true,
    "tags": []
   },
   "source": [
    "### Single Predictions"
   ]
  },
  {
   "cell_type": "code",
   "execution_count": 111,
   "id": "f38f6984-b789-4e45-9b98-0ddbf06625ac",
   "metadata": {},
   "outputs": [],
   "source": [
    "img_num = 0\n",
    "\n",
    "# Load image and label\n",
    "image_np = df_2018.iloc[img_num]['climatic_map'].astype(np.float32)  # shape: (H, W, 11)\n",
    "label_np = df_2018.iloc[img_num]['species_vector'].astype(np.float32)  # shape: (num_classes,)\n",
    "\n",
    "# Convert to torch tensors\n",
    "image_tensor = torch.tensor(image_np).permute(2, 0, 1).unsqueeze(0).to(device)  # [1, 11, H, W]\n",
    "label_tensor = torch.tensor(label_np).unsqueeze(0).to(device)  # [1, num_classes]\n",
    "\n",
    "        "
   ]
  },
  {
   "cell_type": "code",
   "execution_count": 112,
   "id": "db8cd0bd-cba3-4668-af5f-b0c39e1fdde0",
   "metadata": {},
   "outputs": [
    {
     "data": {
      "image/png": "[encoded data removed]",
      "text/plain": [
       "<Figure size 640x480 with 2 Axes>"
      ]
     },
     "metadata": {},
     "output_type": "display_data"
    }
   ],
   "source": [
    "import matplotlib.pyplot as plt\n",
    "\n",
    "# Assuming 'image_np' has shape (H, W, 11)\n",
    "# Visualizing the first channel (for example)\n",
    "channel_idx = 0  # You can change this to visualize other channels\n",
    "channel_image = image_np[:, :, channel_idx]\n",
    "\n",
    "plt.imshow(channel_image, cmap='viridis')  # 'viridis' is a perceptually uniform colormap\n",
    "plt.colorbar()  # Add color bar to see the scale of values\n",
    "plt.title(f\"Channel {channel_idx + 1}\")\n",
    "plt.show()\n"
   ]
  },
  {
   "cell_type": "code",
   "execution_count": 113,
   "id": "79e4bbfe-2304-4365-8d6a-7cd9ac23c989",
   "metadata": {},
   "outputs": [],
   "source": [
    "# Load the NetCDF file\n",
    "def read_netcdf(file_path,latitude,longitude,grid,location,variable = None):\n",
    "    data = xr.open_dataset(file_path)\n",
    "    \n",
    "    # Step 1: Find the indices of the closest grid point\n",
    "    lat_idx = np.argmin(np.abs(data['lat'].values - latitude))\n",
    "    lon_idx = np.argmin(np.abs(data['lon'].values - longitude))\n",
    "    \n",
    "    # Step 2: Select all months of the year\n",
    "    #precipitation= data.sel(**{\"time\": slice(1, 12)})\n",
    "\n",
    "    # Extract variable name (it is always the last variable)\n",
    "    variable = list(data.data_vars.keys())[-1]\n",
    "    # Step 3: Extract a 10x10 grid centered around Bergen\n",
    "    patch = data[variable].isel(\n",
    "        lat=slice(lat_idx - grid, lat_idx + grid),\n",
    "        lon=slice(lon_idx - grid, lon_idx + grid)\n",
    "    )\n",
    "    \n",
    "    # Step 4: Calculate the mean precipitation across all months\n",
    "    #mean_patch = patch.mean(dim=\"time\")\n",
    "    \n",
    "    # Step 5: Plot with Cartopy for map context\n",
    "    plt.figure(figsize=(10, 8))\n",
    "    ax = plt.axes(projection=ccrs.PlateCarree())  # PlateCarree assumes latitude/longitude\n",
    "    \n",
    "    # Plot the precipitation data\n",
    "    # mean_patch.plot(ax=ax, cmap=\"Blues\", transform=ccrs.PlateCarree(), add_colorbar=True)\n",
    "    patch.plot(ax=ax, cmap=\"Blues\", transform=ccrs.PlateCarree(), add_colorbar=True)\n",
    "    \n",
    "    # Add map features\n",
    "    ax.add_feature(cfeature.BORDERS, linestyle=':', edgecolor='black')  # Country borders\n",
    "    ax.add_feature(cfeature.COASTLINE, edgecolor='black')               # Coastline\n",
    "    # ax.set_extent([mean_patch.lon.min(), mean_patch.lon.max(), mean_patch.lat.min(), mean_patch.lat.max()])\n",
    "    ax.set_extent([patch.lon.min(), patch.lon.max(), patch.lat.min(), patch.lat.max()])\n",
    "\n",
    "    \n",
    "    # Add city marker for Bergen\n",
    "    plt.scatter(longitude, latitude, color=\"red\", label=location, transform=ccrs.PlateCarree())\n",
    "    plt.legend()\n",
    "    \n",
    "    # Title and labels\n",
    "    plt.title(f\"{variable} in {location}, (10x10 grid)\")\n",
    "    plt.show()\n",
    "\n",
    "    return patch"
   ]
  },
  {
   "cell_type": "code",
   "execution_count": 114,
   "id": "4d9c3620-4f12-4612-9b1b-68d15e2f4637",
   "metadata": {},
   "outputs": [
    {
     "data": {
      "image/png": "[encoded data removed]",
      "text/plain": [
       "<Figure size 1000x800 with 2 Axes>"
      ]
     },
     "metadata": {},
     "output_type": "display_data"
    }
   ],
   "source": [
    "path_temperature = '../data/CHELSA/chelsav2/EUR11/obs/annual/V2.1/bio01d/CHELSA_EUR11_obs_bio01d_2018_V.2.1.nc'\n",
    "\n",
    "altitude_test = read_netcdf(file_path = path_temperature, #path_prsd,\n",
    "            latitude = df_2018.iloc[img_num]['latitude'],\n",
    "            longitude = df_2018.iloc[img_num]['longitude'],\n",
    "            # variable = 'pr',\n",
    "            grid = 16,\n",
    "            location = 'Random Place')"
   ]
  },
  {
   "cell_type": "code",
   "execution_count": 115,
   "id": "2d98fa5c-f36d-4dea-abb3-4d5e42ad7b58",
   "metadata": {},
   "outputs": [
    {
     "data": {
      "text/plain": [
       "torch.Size([1, 11, 32, 32])"
      ]
     },
     "execution_count": 115,
     "metadata": {},
     "output_type": "execute_result"
    }
   ],
   "source": [
    "image_tensor.shape"
   ]
  },
  {
   "cell_type": "code",
   "execution_count": 116,
   "id": "c60f40b6-52b6-49ad-87b0-3686ef386516",
   "metadata": {},
   "outputs": [],
   "source": [
    "output = RESNET18(image_tensor)"
   ]
  },
  {
   "cell_type": "code",
   "execution_count": 117,
   "id": "e70e055d-b831-464b-a892-e22b879b9262",
   "metadata": {},
   "outputs": [
    {
     "data": {
      "text/plain": [
       "tensor([[-0.8852, -1.1244,  0.5729,  ..., -3.1074, -0.1222,  0.4111]],\n",
       "       device='cuda:0', grad_fn=<AddmmBackward0>)"
      ]
     },
     "execution_count": 117,
     "metadata": {},
     "output_type": "execute_result"
    }
   ],
   "source": [
    "output"
   ]
  },
  {
   "cell_type": "code",
   "execution_count": 118,
   "id": "9b4e000b-78e0-407a-8cd6-ac49538c1680",
   "metadata": {},
   "outputs": [],
   "source": [
    "# get the gradient of the output with respect to the parameters of the model\n",
    "output[:, 2].backward()"
   ]
  },
  {
   "cell_type": "code",
   "execution_count": 119,
   "id": "edd84801-834d-49f3-898f-641095d5ccbb",
   "metadata": {},
   "outputs": [],
   "source": [
    "# pull the gradients out of the model\n",
    "gradients = RESNET18.get_activations_gradient()\n",
    "\n",
    "# pool the gradients across the channels\n",
    "pooled_gradients = torch.mean(gradients, dim=[0, 2, 3])\n",
    "\n",
    "# get the activations of the last convolutional layer\n",
    "activations = RESNET18.get_activations()\n",
    "\n"
   ]
  },
  {
   "cell_type": "code",
   "execution_count": 120,
   "id": "9cbb9942-259b-4116-a39c-a22f2a4770dd",
   "metadata": {
    "tags": []
   },
   "outputs": [
    {
     "data": {
      "text/plain": [
       "tensor([[[[-0.0823,  0.9987],\n",
       "          [ 0.3722,  0.9899]],\n",
       "\n",
       "         [[ 0.3596, -0.0590],\n",
       "          [-0.3387, -0.4386]],\n",
       "\n",
       "         [[-0.4415,  0.1573],\n",
       "          [-0.7247, -0.8028]],\n",
       "\n",
       "         ...,\n",
       "\n",
       "         [[ 0.6903,  1.6716],\n",
       "          [ 0.5731,  1.0634]],\n",
       "\n",
       "         [[-0.2955, -0.4276],\n",
       "          [-0.6250, -0.8927]],\n",
       "\n",
       "         [[ 0.3043, -0.0019],\n",
       "          [ 0.4141,  0.1475]]]], device='cuda:0')"
      ]
     },
     "execution_count": 120,
     "metadata": {},
     "output_type": "execute_result"
    }
   ],
   "source": [
    "activations"
   ]
  },
  {
   "cell_type": "code",
   "execution_count": 130,
   "id": "a332b817-fafc-4d65-a5e2-18c4f585dcf5",
   "metadata": {
    "tags": []
   },
   "outputs": [
    {
     "name": "stdout",
     "output_type": "stream",
     "text": [
      "Activations shape: torch.Size([1, 256, 2, 2])\n",
      "Pooled gradients shape: torch.Size([512])\n",
      "Activations shape after weighting: torch.Size([1, 256, 2, 2])\n",
      "Heatmap shape after averaging: torch.Size([2, 2])\n",
      "Heatmap values before normalization: tensor([[0.0000e+00, 0.0000e+00],\n",
      "        [2.0760e-08, 8.8629e-07]], device='cuda:0')\n"
     ]
    },
    {
     "data": {
      "text/plain": [
       "array([[0.        , 0.        ],\n",
       "       [0.02342331, 1.        ]], dtype=float32)"
      ]
     },
     "execution_count": 130,
     "metadata": {},
     "output_type": "execute_result"
    }
   ],
   "source": [
    "import matplotlib.pyplot as plt\n",
    "import torch\n",
    "\n",
    "# Assuming activations and pooled_gradients are already computed\n",
    "\n",
    "# Detach activations from the computation graph\n",
    "activations = activations.detach()\n",
    "# scale_factor = 1e10  # Example scaling factor, adjust as needed\n",
    "# activations *= scale_factor\n",
    "print(\"Activations shape:\", activations.shape)\n",
    "\n",
    "print(\"Pooled gradients shape:\", pooled_gradients.shape)\n",
    "\n",
    "# Weight the channels by corresponding gradients\n",
    "for i in range(256):\n",
    "    activations[:, i, :, :] *= pooled_gradients[i]\n",
    "    \n",
    "print(\"Activations shape after weighting:\", activations.shape)\n",
    "# print(activations)\n",
    "# Average across the channels (dim=1) to get a single channel heatmap\n",
    "heatmap = torch.mean(activations, dim=1).squeeze()  # Keep the shape [1, 1, 1, 1] or [batch_size, 1, H, W]\n",
    "print(\"Heatmap shape after averaging:\", heatmap.shape)\n",
    "\n",
    "# Apply ReLU on the heatmap to remove negative values\n",
    "heatmap = torch.maximum(heatmap, torch.tensor(0.0, device=device))\n",
    "print(\"Heatmap values before normalization:\", heatmap)\n",
    "\n",
    "# Normalize the heatmap to the range [0, 1] for visualization\n",
    "heatmap /= torch.max(heatmap)\n",
    "\n",
    "# # Convert the heatmap to numpy (if on GPU, first move it to CPU)\n",
    "heatmap_np = heatmap.cpu().detach().numpy()\n",
    "heatmap_np\n",
    "# # Print the heatmap shape and values before visualization\n",
    "# print(\"Heatmap shape:\", heatmap.shape)\n",
    "# print(\"Heatmap values after normalization:\", heatmap)\n"
   ]
  },
  {
   "cell_type": "code",
   "execution_count": 131,
   "id": "81383236-f87c-4e22-9c4c-0193f801b46b",
   "metadata": {},
   "outputs": [
    {
     "data": {
      "image/png": "[encoded data removed]",
      "text/plain": [
       "<Figure size 640x480 with 2 Axes>"
      ]
     },
     "metadata": {},
     "output_type": "display_data"
    }
   ],
   "source": [
    "\n",
    "# Visualize the heatmap\n",
    "plt.imshow(heatmap_np, cmap='jet', aspect='auto')  # Using squeeze just for visualization\n",
    "plt.colorbar()\n",
    "plt.show()\n"
   ]
  },
  {
   "cell_type": "code",
   "execution_count": 132,
   "id": "5c2a1451-baf5-427d-ad2d-97025b7382a2",
   "metadata": {},
   "outputs": [
    {
     "ename": "ValueError",
     "evalue": "Input and output must have the same number of spatial dimensions, but got input with spatial dimensions of [] and output size of (32, 32). Please provide input tensor in (N, C, d1, d2, ...,dK) format and output size in (o1, o2, ...,oK) format.",
     "output_type": "error",
     "traceback": [
      "\u001b[0;31m---------------------------------------------------------------------------\u001b[0m",
      "\u001b[0;31mValueError\u001b[0m                                Traceback (most recent call last)",
      "Cell \u001b[0;32mIn[132], line 10\u001b[0m\n\u001b[1;32m      2\u001b[0m \u001b[38;5;28;01mimport\u001b[39;00m\u001b[38;5;250m \u001b[39m\u001b[38;5;21;01mtorch\u001b[39;00m\u001b[38;5;21;01m.\u001b[39;00m\u001b[38;5;21;01mnn\u001b[39;00m\u001b[38;5;21;01m.\u001b[39;00m\u001b[38;5;21;01mfunctional\u001b[39;00m\u001b[38;5;250m \u001b[39m\u001b[38;5;28;01mas\u001b[39;00m\u001b[38;5;250m \u001b[39m\u001b[38;5;21;01mF\u001b[39;00m\n\u001b[1;32m      4\u001b[0m \u001b[38;5;66;03m# Assuming attention_map is a 4D tensor (batch_size, channels, height, width)\u001b[39;00m\n\u001b[1;32m      5\u001b[0m \u001b[38;5;66;03m# Example attention map (2, 2) in batch format with a single channel\u001b[39;00m\n\u001b[1;32m      6\u001b[0m \u001b[38;5;66;03m# attention_map = torch.tensor([[[[1.0, 0.0], \u001b[39;00m\n\u001b[1;32m      7\u001b[0m \u001b[38;5;66;03m#                                 [0.32757732, 0.0]]]], dtype=torch.float32)\u001b[39;00m\n\u001b[1;32m      8\u001b[0m \n\u001b[1;32m      9\u001b[0m \u001b[38;5;66;03m# Resize the attention map to the original size (32, 32)\u001b[39;00m\n\u001b[0;32m---> 10\u001b[0m attention_map_resized \u001b[38;5;241m=\u001b[39m \u001b[43mF\u001b[49m\u001b[38;5;241;43m.\u001b[39;49m\u001b[43minterpolate\u001b[49m\u001b[43m(\u001b[49m\u001b[43mheatmap\u001b[49m\u001b[43m,\u001b[49m\u001b[43m \u001b[49m\u001b[43msize\u001b[49m\u001b[38;5;241;43m=\u001b[39;49m\u001b[43m(\u001b[49m\u001b[38;5;241;43m32\u001b[39;49m\u001b[43m,\u001b[49m\u001b[43m \u001b[49m\u001b[38;5;241;43m32\u001b[39;49m\u001b[43m)\u001b[49m\u001b[43m,\u001b[49m\u001b[43m \u001b[49m\u001b[43mmode\u001b[49m\u001b[38;5;241;43m=\u001b[39;49m\u001b[38;5;124;43m'\u001b[39;49m\u001b[38;5;124;43mbilinear\u001b[39;49m\u001b[38;5;124;43m'\u001b[39;49m\u001b[43m,\u001b[49m\u001b[43m \u001b[49m\u001b[43malign_corners\u001b[49m\u001b[38;5;241;43m=\u001b[39;49m\u001b[38;5;28;43;01mFalse\u001b[39;49;00m\u001b[43m)\u001b[49m\n\u001b[1;32m     12\u001b[0m \u001b[38;5;66;03m# Now attention_map_resized will be of shape (1, 1, 32, 32)\u001b[39;00m\n\u001b[1;32m     13\u001b[0m \u001b[38;5;28mprint\u001b[39m(attention_map_resized\u001b[38;5;241m.\u001b[39mshape)\n",
      "File \u001b[0;32m/opt/conda/envs/pytorch/lib/python3.10/site-packages/torch/nn/functional.py:4566\u001b[0m, in \u001b[0;36minterpolate\u001b[0;34m(input, size, scale_factor, mode, align_corners, recompute_scale_factor, antialias)\u001b[0m\n\u001b[1;32m   4564\u001b[0m \u001b[38;5;28;01mif\u001b[39;00m \u001b[38;5;28misinstance\u001b[39m(size, (\u001b[38;5;28mlist\u001b[39m, \u001b[38;5;28mtuple\u001b[39m)):\n\u001b[1;32m   4565\u001b[0m     \u001b[38;5;28;01mif\u001b[39;00m \u001b[38;5;28mlen\u001b[39m(size) \u001b[38;5;241m!=\u001b[39m dim:\n\u001b[0;32m-> 4566\u001b[0m         \u001b[38;5;28;01mraise\u001b[39;00m \u001b[38;5;167;01mValueError\u001b[39;00m(\n\u001b[1;32m   4567\u001b[0m             \u001b[38;5;124m\"\u001b[39m\u001b[38;5;124mInput and output must have the same number of spatial dimensions, but got \u001b[39m\u001b[38;5;124m\"\u001b[39m\n\u001b[1;32m   4568\u001b[0m             \u001b[38;5;124mf\u001b[39m\u001b[38;5;124m\"\u001b[39m\u001b[38;5;124minput with spatial dimensions of \u001b[39m\u001b[38;5;132;01m{\u001b[39;00m\u001b[38;5;28mlist\u001b[39m(\u001b[38;5;28minput\u001b[39m\u001b[38;5;241m.\u001b[39mshape[\u001b[38;5;241m2\u001b[39m:])\u001b[38;5;132;01m}\u001b[39;00m\u001b[38;5;124m and output size of \u001b[39m\u001b[38;5;132;01m{\u001b[39;00msize\u001b[38;5;132;01m}\u001b[39;00m\u001b[38;5;124m. \u001b[39m\u001b[38;5;124m\"\u001b[39m\n\u001b[1;32m   4569\u001b[0m             \u001b[38;5;124m\"\u001b[39m\u001b[38;5;124mPlease provide input tensor in (N, C, d1, d2, ...,dK) format and \u001b[39m\u001b[38;5;124m\"\u001b[39m\n\u001b[1;32m   4570\u001b[0m             \u001b[38;5;124m\"\u001b[39m\u001b[38;5;124moutput size in (o1, o2, ...,oK) format.\u001b[39m\u001b[38;5;124m\"\u001b[39m\n\u001b[1;32m   4571\u001b[0m         )\n\u001b[1;32m   4572\u001b[0m     \u001b[38;5;28;01mif\u001b[39;00m \u001b[38;5;129;01mnot\u001b[39;00m torch\u001b[38;5;241m.\u001b[39mjit\u001b[38;5;241m.\u001b[39mis_scripting():\n\u001b[1;32m   4573\u001b[0m         \u001b[38;5;28;01mif\u001b[39;00m \u001b[38;5;129;01mnot\u001b[39;00m \u001b[38;5;28mall\u001b[39m(_is_integer(x) \u001b[38;5;28;01mfor\u001b[39;00m x \u001b[38;5;129;01min\u001b[39;00m size):\n",
      "\u001b[0;31mValueError\u001b[0m: Input and output must have the same number of spatial dimensions, but got input with spatial dimensions of [] and output size of (32, 32). Please provide input tensor in (N, C, d1, d2, ...,dK) format and output size in (o1, o2, ...,oK) format."
     ]
    }
   ],
   "source": [
    "import torch\n",
    "import torch.nn.functional as F\n",
    "\n",
    "# Assuming attention_map is a 4D tensor (batch_size, channels, height, width)\n",
    "# Example attention map (2, 2) in batch format with a single channel\n",
    "# attention_map = torch.tensor([[[[1.0, 0.0], \n",
    "#                                 [0.32757732, 0.0]]]], dtype=torch.float32)\n",
    "\n",
    "# Resize the attention map to the original size (32, 32)\n",
    "attention_map_resized = F.interpolate(heatmap, size=(32, 32), mode='bilinear', align_corners=False)\n",
    "\n",
    "# Now attention_map_resized will be of shape (1, 1, 32, 32)\n",
    "print(attention_map_resized.shape)\n"
   ]
  },
  {
   "cell_type": "code",
   "execution_count": 133,
   "id": "a552f3b7-7f5e-486b-9b2b-4d071579246f",
   "metadata": {},
   "outputs": [
    {
     "name": "stderr",
     "output_type": "stream",
     "text": [
      "/tmp/ipykernel_15999/891303769.py:13: UserWarning: To copy construct from a tensor, it is recommended to use sourceTensor.clone().detach() or sourceTensor.clone().detach().requires_grad_(True), rather than torch.tensor(sourceTensor).\n",
      "  attention_map_resized = torch.tensor(attention_map_resized, dtype=torch.float32)  # Convert to tensor\n"
     ]
    },
    {
     "data": {
      "image/png": "[encoded data removed]",
      "text/plain": [
       "<Figure size 640x480 with 1 Axes>"
      ]
     },
     "metadata": {},
     "output_type": "display_data"
    }
   ],
   "source": [
    "from torchvision.transforms.functional import to_pil_image\n",
    "from matplotlib import colormaps\n",
    "import numpy as np\n",
    "import PIL\n",
    "import torch\n",
    "import matplotlib.pyplot as plt\n",
    "\n",
    "# # Assuming image is a (32, 32, 11) NumPy array, and attention_map is (1, 1, 32, 32)\n",
    "# image = np.random.rand(32, 32, 11)  # Shape (32, 32, 11)\n",
    "# attention_map_resized = np.random.rand(1, 1, 32, 32)  # Shape (1, 1, 32, 32)\n",
    "\n",
    "# Step 1: Convert the attention map to a PIL image and resize it\n",
    "attention_map_resized = torch.tensor(attention_map_resized, dtype=torch.float32)  # Convert to tensor\n",
    "attention_map_resized = attention_map_resized.squeeze(0).squeeze(0)  # Remove the batch and channel dimensions\n",
    "\n",
    "# Convert attention map to PIL and resize it\n",
    "overlay = to_pil_image(attention_map_resized, mode='F').resize((32, 32), resample=PIL.Image.BICUBIC)\n",
    "\n",
    "# Apply the colormap\n",
    "cmap = colormaps['jet']\n",
    "overlay = (255 * cmap(np.asarray(overlay) ** 2)[:, :, :3]).astype(np.uint8)\n",
    "\n",
    "# Step 2: Create a plot to overlay the attention map on the image\n",
    "fig, ax = plt.subplots()\n",
    "ax.axis('off')  # Remove axis markers\n",
    "\n",
    "# Convert the image (32, 32, 11) to PIL and display the first channel (RGB mode)\n",
    "img_pil = to_pil_image(image_np[..., 0], mode='L')\n",
    "ax.imshow(img_pil)\n",
    "\n",
    "# Step 3: Overlay the attention map on top with transparency\n",
    "ax.imshow(overlay, alpha=0.4, interpolation='nearest', extent=[0, 32, 0, 32])\n",
    "\n",
    "# Show the plot\n",
    "plt.show()\n"
   ]
  },
  {
   "cell_type": "code",
   "execution_count": null,
   "id": "892186b6-9245-4ae1-b46e-24fefc9dcc8f",
   "metadata": {},
   "outputs": [],
   "source": []
  },
  {
   "cell_type": "code",
   "execution_count": 245,
   "id": "ff7eb3db-9437-4285-8a57-68c09fd7e91b",
   "metadata": {},
   "outputs": [
    {
     "data": {
      "text/plain": [
       "array([[1.]], dtype=float32)"
      ]
     },
     "execution_count": 245,
     "metadata": {},
     "output_type": "execute_result"
    }
   ],
   "source": [
    "heatmap"
   ]
  },
  {
   "cell_type": "code",
   "execution_count": null,
   "id": "169a1bc0-c21c-4e69-bfea-4db50e50bb7c",
   "metadata": {},
   "outputs": [],
   "source": []
  }
 ],
 "metadata": {
  "kernelspec": {
   "display_name": "pytorch",
   "language": "python",
   "name": "pytorch"
  },
  "language_info": {
   "codemirror_mode": {
    "name": "ipython",
    "version": 3
   },
   "file_extension": ".py",
   "mimetype": "text/x-python",
   "name": "python",
   "nbconvert_exporter": "python",
   "pygments_lexer": "ipython3",
   "version": "3.10.16"
  }
 },
 "nbformat": 4,
 "nbformat_minor": 5
}
